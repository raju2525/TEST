{
  "nbformat": 4,
  "nbformat_minor": 0,
  "metadata": {
    "colab": {
      "provenance": [],
      "authorship_tag": "ABX9TyNpmnmYgbEWHwz0/c/reUx3",
      "include_colab_link": true
    },
    "kernelspec": {
      "name": "python3",
      "display_name": "Python 3"
    },
    "language_info": {
      "name": "python"
    }
  },
  "cells": [
    {
      "cell_type": "markdown",
      "metadata": {
        "id": "view-in-github",
        "colab_type": "text"
      },
      "source": [
        "<a href=\"https://colab.research.google.com/github/raju2525/Training_ExcelR/blob/main/python_variables_declaration.ipynb\" target=\"_parent\"><img src=\"https://colab.research.google.com/assets/colab-badge.svg\" alt=\"Open In Colab\"/></a>"
      ]
    },
    {
      "cell_type": "code",
      "execution_count": 1,
      "metadata": {
        "colab": {
          "base_uri": "https://localhost:8080/"
        },
        "id": "kHbftRHyf5p4",
        "outputId": "2f28890e-1eb5-439a-d4c4-171af53eabeb"
      },
      "outputs": [
        {
          "output_type": "stream",
          "name": "stdout",
          "text": [
            "integer_variable=10, type(integer_variable)=<class 'int'>\n",
            "float_variable=3.14, type(float_variable)=<class 'float'>\n",
            "string_variable='Hello, world!', type(string_variable)=<class 'str'>\n",
            "boolean_variable=True, type(boolean_variable)=<class 'bool'>\n"
          ]
        }
      ],
      "source": [
        "\n",
        "integer_variable = 10\n",
        "float_variable = 3.14\n",
        "string_variable = \"Hello, world!\"\n",
        "boolean_variable = True\n",
        "\n",
        "\n",
        "print(f\"{integer_variable=}, {type(integer_variable)=}\")\n",
        "print(f\"{float_variable=}, {type(float_variable)=}\")\n",
        "print(f\"{string_variable=}, {type(string_variable)=}\")\n",
        "print(f\"{boolean_variable=}, {type(boolean_variable)=}\")"
      ]
    },
    {
      "cell_type": "code",
      "source": [],
      "metadata": {
        "id": "RyZ-plrygUn6"
      },
      "execution_count": null,
      "outputs": []
    }
  ]
}